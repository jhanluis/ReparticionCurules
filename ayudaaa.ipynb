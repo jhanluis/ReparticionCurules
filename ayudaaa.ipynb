{
 "cells": [
  {
   "cell_type": "code",
   "execution_count": 1,
   "id": "372d330a",
   "metadata": {},
   "outputs": [],
   "source": [
    "import pandas as pd"
   ]
  },
  {
   "cell_type": "code",
   "execution_count": 2,
   "id": "5854b083",
   "metadata": {},
   "outputs": [],
   "source": [
    "votos_por_circun = {\n",
    "    \"PRIMERA\": {\"PAN\": 1886007, \"PRI\": 1162528, \"PT\": 517448, \"PVEM\": 704142, \"MC\": 1774320, \"MORENA\": 4519464, \"PRD\": 0},\n",
    "    \"SEGUNDA\": {\"PAN\": 2682634, \"PRI\": 1521683, \"PT\": 417610, \"PVEM\": 997339, \"MC\": 1330554, \"MORENA\": 3722803, \"PRD\": 0},\n",
    "    \"TERCERA\": {\"PAN\": 1320664, \"PRI\": 945965, \"PT\": 810826, \"PVEM\": 1266771, \"MC\": 960131, \"MORENA\": 5433356, \"PRD\": 0},\n",
    "    \"CUARTA\":  {\"PAN\": 2305701, \"PRI\": 1267427, \"PT\": 905405, \"PVEM\": 1128025, \"MC\": 1234896, \"MORENA\": 5755609, \"PRD\": 0},\n",
    "    \"QUINTA\":  {\"PAN\": 1851623, \"PRI\": 1724639, \"PT\": 602275, \"PVEM\": 896009, \"MC\": 1195620, \"MORENA\": 4846725, \"PRD\": 1449176},\n",
    "}\n",
    "curules_mr = {\"PAN\": 31, \"PRI\": 10, \"MC\": 1, \"MORENA\": 182, \"PVEM\": 40, \"PT\": 34}\n",
    "\n",
    "votos_eliminar = {\n",
    "    \"No registrados\": 49305,\n",
    "    \"Independientes\": 72012,\n",
    "    \"Nulos\": 2189171,\n",
    "}\n",
    "\n",
    "curules = 200"
   ]
  },
  {
   "cell_type": "code",
   "execution_count": 3,
   "id": "a39f0eed",
   "metadata": {},
   "outputs": [],
   "source": [
    "# ---------------------------------------------\n",
    "# 1. Suma de votos nacionales por partido\n",
    "#    (sumando lo que obtuvo en cada circunscripción)\n",
    "# ---------------------------------------------\n",
    "votos_por_partido = {\n",
    "    \"PAN\": sum(votos_por_circun[c].get(\"PAN\", 0) for c in votos_por_circun),\n",
    "    \"PRI\": sum(votos_por_circun[c].get(\"PRI\", 0) for c in votos_por_circun),\n",
    "    \"MC\": sum(votos_por_circun[c].get(\"MC\", 0) for c in votos_por_circun),\n",
    "    \"MORENA\": sum(votos_por_circun[c].get(\"MORENA\", 0) for c in votos_por_circun),\n",
    "    \"PVEM\": sum(votos_por_circun[c].get(\"PVEM\", 0) for c in votos_por_circun),\n",
    "    \"PT\": sum(votos_por_circun[c].get(\"PT\", 0) for c in votos_por_circun),\n",
    "    \"PRD\": sum(votos_por_circun[c].get(\"PRD\", 0) for c in votos_por_circun),\n",
    "}\n",
    "\n",
    "# 2. Total de votos emitidos\n",
    "#    = votos por partido + votos a eliminar (nulos, no registrados, independientes)\n",
    "# ---------------------------------------------\n",
    "votacion_total_emitida = sum(votos_por_partido.values()) + sum(votos_eliminar.values())\n",
    "\n",
    "# 3. Votación válida emitida\n",
    "#    = total emitidos - votos nulos - votos no registrados\n",
    "# ---------------------------------------------\n",
    "votacion_valida_emitida = votacion_total_emitida - votos_eliminar[\"Nulos\"] - votos_eliminar[\"No registrados\"]\n",
    "\n",
    "# ---------------------------------------------\n",
    "# 4. Partidos que superan el umbral nacional (3%)\n",
    "#    Guardamos en el diccionario partido: proporción\n",
    "#    ⚠️ Nota: mejor usar >= 0.03 para incluir al que tenga exactamente 3%\n",
    "# ---------------------------------------------\n",
    "partidos_con_derecho = {\n",
    "    p: v / votacion_valida_emitida\n",
    "    for p, v in votos_por_partido.items()\n",
    "    if v / votacion_valida_emitida >= 0.03\n",
    "}\n",
    "\n",
    "# ---------------------------------------------\n",
    "# 5. Filtrar los votos de solo esos partidos con derecho\n",
    "# ---------------------------------------------\n",
    "votos_partido_con_derecho = {p: v for p, v in votos_por_partido.items() if p in partidos_con_derecho}\n",
    "\n",
    "# ---------------------------------------------\n",
    "# 6. Votación nacional emitida para repartir RP\n",
    "#    = total emitido - todos los eliminados - votos de partidos que no pasaron el umbral\n",
    "#    (esto es la base para calcular el cociente natural)\n",
    "# ---------------------------------------------\n",
    "votacion_nacional_emitida = (\n",
    "    votacion_total_emitida\n",
    "    - sum(votos_eliminar.values())\n",
    "    - sum(v for p, v in votos_por_partido.items() if p not in partidos_con_derecho)\n",
    ")\n",
    "\n",
    "# ---------------------------------------------\n",
    "# 7. Cociente natural\n",
    "#    = votos nacionales válidos (solo partidos con derecho) / número de curules RP (200)\n",
    "# ---------------------------------------------\n",
    "cociente_natural = votacion_nacional_emitida / curules"
   ]
  },
  {
   "cell_type": "code",
   "execution_count": 4,
   "id": "58a898cd",
   "metadata": {},
   "outputs": [],
   "source": [
    "# ---------------------------------------------\n",
    "# Asignación por Hare (cociente natural)\n",
    "#   1) Parte entera: floor(v_i / q)\n",
    "#   2) Restos mayores: asigna +1 a los restos más grandes hasta completar 'curules'\n",
    "# ---------------------------------------------\n",
    "\n",
    "# 1) Parte entera: curules por floor(v_i / q) para cada partido elegible\n",
    "asignacion_curules = {p: int(v // cociente_natural) for p, v in votos_partido_con_derecho.items()}\n",
    "\n",
    "# 2) Suma de las partes enteras ya asignadas\n",
    "curules_asignadas = sum(asignacion_curules.values())\n",
    "\n",
    "# 3) Curules faltantes para llegar al total (p. ej., 200 nacional o 40 por región)\n",
    "curules_restantes = curules - curules_asignadas\n",
    "\n",
    "# 4) Restos: r_i = v_i - floor(v_i / q) * q\n",
    "#    (equivalente a v_i % q, pero esta forma es más estable en punto flotante)\n",
    "restos = {\n",
    "    p: votos_partido_con_derecho[p] - asignacion_curules[p] * cociente_natural\n",
    "    for p in asignacion_curules\n",
    "}\n",
    "\n",
    "# 5) Ordenar por resto descendente (regla de \"restos mayores\")\n",
    "#    Sugerencia de robustez: agrega desempate determinista, p.ej.:\n",
    "#    key=lambda kv: (kv[1], votos_partido_con_derecho[kv[0]], -ORDEN_FIJO[kv[0]])\n",
    "#    y 'reverse=True'. Aquí mantenemos tu criterio simple.\n",
    "partidos_ordenados = sorted(restos.items(), key=lambda x: x[1], reverse=True)\n",
    "\n",
    "# 6) Asignar las curules restantes siguiendo el ranking de restos\n",
    "#    Propiedad típica de Hare: cada partido suele recibir como mucho +1 por restos (no siempre, pero es lo usual).\n",
    "for i in range(curules_restantes):\n",
    "    partido = partidos_ordenados[i][0]\n",
    "    asignacion_curules[partido] += 1\n",
    "\n",
    "# ---------------------------------------------\n",
    "# Totales y tope de sobrerrepresentación\n",
    "#   - Totales = MR + RP\n",
    "#   - Capacidad máxima = floor((cuota + 0.08) * 500)\n",
    "# ---------------------------------------------\n",
    "\n",
    "# 7) Totales por partido: suma de lo asignado por RP + lo ya obtenido por MR\n",
    "curules_totales = {\n",
    "    p: asignacion_curules.get(p, 0) + curules_mr.get(p, 0)\n",
    "    for p in set(asignacion_curules) | set(curules_mr)\n",
    "}\n",
    "\n",
    "# 8) Capacidad máxima por partido con margen +8% (respecto a 500 curules totales)\n",
    "#    OJO: 'votacion_nacional_emitida' debe ser la base coherente (votos válidos elegibles para tope).\n",
    "#    Si aplicas tope 300, podrías hacer min(., 300).\n",
    "curules_maximas = {\n",
    "    p: int(((v / votacion_nacional_emitida) + 0.08) * 500)\n",
    "    for p, v in votos_partido_con_derecho.items()\n",
    "}\n",
    "\n",
    "# 9) Detectar quienes exceden su capacidad: TOTAL > CAP_MAX\n",
    "sobrerepresentados = {\n",
    "    p: curules_totales[p]\n",
    "    for p in curules_totales\n",
    "    if curules_totales[p] > curules_maximas.get(p, 0)\n",
    "}\n"
   ]
  },
  {
   "cell_type": "code",
   "execution_count": 5,
   "id": "81128130",
   "metadata": {},
   "outputs": [
    {
     "data": {
      "text/plain": [
       "{'MORENA': 323706.0933333333}"
      ]
     },
     "execution_count": 5,
     "metadata": {},
     "output_type": "execute_result"
    }
   ],
   "source": [
    "# Para los partidos sobrerepresentados, dividir su total de votos entre sus diputaciones asignadas (curules_totales)\n",
    "votos_por_curul_sobrerepresentados = {\n",
    "    p: votos_partido_con_derecho[p] / (asignacion_curules[p] - (curules_totales[p] - curules_maximas[p]))\n",
    "    for p in sobrerepresentados\n",
    "}\n",
    "\n",
    "\n",
    "votos_por_curul_sobrerepresentados"
   ]
  },
  {
   "cell_type": "code",
   "execution_count": 6,
   "id": "706e9478",
   "metadata": {},
   "outputs": [
    {
     "data": {
      "text/plain": [
       "{'MORENA': {'PRIMERA': 14,\n",
       "  'SEGUNDA': 11,\n",
       "  'TERCERA': 17,\n",
       "  'CUARTA': 18,\n",
       "  'QUINTA': 15}}"
      ]
     },
     "execution_count": 6,
     "metadata": {},
     "output_type": "execute_result"
    }
   ],
   "source": [
    "# Calcula la división del total de votos por circunscripción entre el valor de votos_por_curul_sobrerepresentados para cada partido\n",
    "resultado_division = {\n",
    "    partido: {\n",
    "        circ: votos_por_circun[circ][partido] / votos_por_curul_sobrerepresentados[partido]\n",
    "        for circ in votos_por_circun\n",
    "    }\n",
    "    for partido in votos_por_curul_sobrerepresentados\n",
    "}\n",
    "\n",
    "# Asigna la parte entera de cada valor en resultado_division a un nuevo diccionario\n",
    "curules_por_circun_sobrerep_entero = {\n",
    "    partido: {circ: int(valor) for circ, valor in circuns.items()}\n",
    "    for partido, circuns in resultado_division.items()\n",
    "}\n",
    "\n",
    "# Si la suma de curules es menor a 75, reparte el restante por resto mayor\n",
    "for partido, circuns in curules_por_circun_sobrerep_entero.items():\n",
    "    suma_curules = sum(circuns.values())\n",
    "    if suma_curules < (asignacion_curules[partido] - (curules_totales[partido] - curules_maximas[partido])):\n",
    "        faltan = (asignacion_curules[partido] - (curules_totales[partido] - curules_maximas[partido])) - suma_curules\n",
    "        # Ordenar circunscripciones por el valor decimal de resultado_division (resto mayor)\n",
    "        restos_ordenados = sorted(\n",
    "            resultado_division[partido].items(),\n",
    "            key=lambda x: x[1] - int(x[1]),\n",
    "            reverse=True\n",
    "        )\n",
    "        # Asignar +1 a las circunscripciones con mayor resto decimal\n",
    "        for i in range(faltan):\n",
    "            circ = restos_ordenados[i][0]\n",
    "            curules_por_circun_sobrerep_entero[partido][circ] += 1\n",
    "\n",
    "curules_por_circun_sobrerep_entero"
   ]
  },
  {
   "cell_type": "code",
   "execution_count": 7,
   "id": "27ea8f48",
   "metadata": {},
   "outputs": [],
   "source": [
    "nuevas_diputaciones_por_asignar = curules - sum(sum(curules_por_circun_sobrerep_entero[p].values()) for p in sobrerepresentados)\n",
    "\n",
    "nueva_votacion_nacional_efectiva = votacion_nacional_emitida - sum(votos_partido_con_derecho[p] for p in sobrerepresentados)\n",
    "\n",
    "cociente_natural_ajustado = nueva_votacion_nacional_efectiva / nuevas_diputaciones_por_asignar\n",
    "\n"
   ]
  },
  {
   "cell_type": "code",
   "execution_count": 8,
   "id": "42df3992",
   "metadata": {},
   "outputs": [
    {
     "data": {
      "text/plain": [
       "{'PAN': 39.98150109763561,\n",
       " 'PRI': 26.35383229457449,\n",
       " 'MC': 25.849534206072022,\n",
       " 'PVEM': 19.867269726861704,\n",
       " 'PT': 12.947862674856182}"
      ]
     },
     "execution_count": 8,
     "metadata": {},
     "output_type": "execute_result"
    }
   ],
   "source": [
    "# Obtiene los partidos que no están sobrerepresentados\n",
    "partidos_no_sobrerepresentados = [p for p in asignacion_curules if p not in sobrerepresentados]\n",
    "partidos_no_sobrerepresentados\n",
    "\n",
    "votos_por_curul_no_sobrerep = {\n",
    "    p: votos_partido_con_derecho[p] / cociente_natural_ajustado\n",
    "    for p in partidos_no_sobrerepresentados\n",
    "}\n",
    "\n",
    "# Calcula la división del total de votos por circunscripción entre el valor de votos_por_curul_no_sobrerep para cada partido\n",
    "resultado_division_no_sobrerep = {\n",
    "    partido: {\n",
    "        circ: votos_por_circun[circ][partido] / votos_por_curul_no_sobrerep[partido]\n",
    "        for circ in votos_por_circun\n",
    "    }\n",
    "    for partido in partidos_no_sobrerepresentados\n",
    "}\n",
    "\n",
    "votos_por_curul_no_sobrerep"
   ]
  },
  {
   "cell_type": "code",
   "execution_count": 9,
   "id": "41aa8f89",
   "metadata": {},
   "outputs": [
    {
     "data": {
      "text/plain": [
       "{'PAN': 39.98150109763561,\n",
       " 'PRI': 26.35383229457449,\n",
       " 'MC': 25.849534206072022,\n",
       " 'PVEM': 19.867269726861704,\n",
       " 'PT': 12.947862674856182}"
      ]
     },
     "execution_count": 9,
     "metadata": {},
     "output_type": "execute_result"
    }
   ],
   "source": [
    "votos_por_curul_no_sobrerep"
   ]
  },
  {
   "cell_type": "code",
   "execution_count": 10,
   "id": "9093c71c",
   "metadata": {},
   "outputs": [
    {
     "data": {
      "text/plain": [
       "{'MORENA': {'PRIMERA': 13,\n",
       "  'SEGUNDA': 11,\n",
       "  'TERCERA': 16,\n",
       "  'CUARTA': 17,\n",
       "  'QUINTA': 14}}"
      ]
     },
     "execution_count": 10,
     "metadata": {},
     "output_type": "execute_result"
    }
   ],
   "source": [
    "# Asigna la parte entera de cada valor en resultado_division a un nuevo diccionario\n",
    "curules_por_circun_entero = {\n",
    "    partido: {circ: int(valor) for circ, valor in circuns.items()}\n",
    "    for partido, circuns in resultado_division.items()\n",
    "}\n",
    "\n",
    "curules_por_circun_entero"
   ]
  }
 ],
 "metadata": {
  "kernelspec": {
   "display_name": "Python 3",
   "language": "python",
   "name": "python3"
  },
  "language_info": {
   "codemirror_mode": {
    "name": "ipython",
    "version": 3
   },
   "file_extension": ".py",
   "mimetype": "text/x-python",
   "name": "python",
   "nbconvert_exporter": "python",
   "pygments_lexer": "ipython3",
   "version": "3.13.7"
  }
 },
 "nbformat": 4,
 "nbformat_minor": 5
}
